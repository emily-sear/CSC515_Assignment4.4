{
 "cells": [
  {
   "cell_type": "code",
   "execution_count": 100,
   "id": "7fbf9ca8",
   "metadata": {},
   "outputs": [],
   "source": [
    "import copy"
   ]
  },
  {
   "cell_type": "code",
   "execution_count": 145,
   "id": "ca9409a6",
   "metadata": {},
   "outputs": [],
   "source": [
    "# this is created with the idea that you could insert any solution\n",
    "# into the algorithm so it will always solve the board to whatever\n",
    "# solution that you give it"
   ]
  },
  {
   "cell_type": "code",
   "execution_count": 135,
   "id": "d7ab7bf2",
   "metadata": {},
   "outputs": [],
   "source": [
    "board = [\n",
    "    [1, 2, 3],\n",
    "    [5, 7, 6],\n",
    "    [4, 0, 8]\n",
    "]"
   ]
  },
  {
   "cell_type": "code",
   "execution_count": 136,
   "id": "90f0d723",
   "metadata": {},
   "outputs": [],
   "source": [
    "solution = [\n",
    "    [1, 2, 3],\n",
    "    [4, 5, 6],\n",
    "    [7, 8, 0]\n",
    "]"
   ]
  },
  {
   "cell_type": "code",
   "execution_count": 137,
   "id": "979d9324",
   "metadata": {},
   "outputs": [],
   "source": [
    "def getSolutionPosition(solution, value):\n",
    "    for i in range(len(solution)):\n",
    "        for j in range(len(solution[i])):\n",
    "            if(solution[i][j] == value):\n",
    "                return [i, j]"
   ]
  },
  {
   "cell_type": "code",
   "execution_count": 138,
   "id": "412d6fa6",
   "metadata": {},
   "outputs": [],
   "source": [
    "def distanceFromSolution(board, solution): \n",
    "    total = 0\n",
    "    for i in range(len(board)):\n",
    "        for j in range(len(board[i])):\n",
    "            if(board[i][j] != 0): \n",
    "                solutionPosition = getSolutionPosition(solution, board[i][j])\n",
    "                yMovement = abs(i - solutionPosition[0])\n",
    "                xMovement = abs(j - solutionPosition[1])\n",
    "                total += yMovement + xMovement\n",
    "    return total"
   ]
  },
  {
   "cell_type": "code",
   "execution_count": 140,
   "id": "b7689602",
   "metadata": {},
   "outputs": [],
   "source": [
    "def movement(board):\n",
    "    zeroX = -1\n",
    "    zeroY = -1\n",
    "    for i in range(len(board)):\n",
    "        for j in range(len(board)):\n",
    "            if(board[i][j] == 0):\n",
    "                zeroX = i\n",
    "                zeroY = j\n",
    "                break\n",
    "        if(zeroX != -1 and zeroY != -1):\n",
    "            break\n",
    "    attempts = []\n",
    "    \n",
    "    \n",
    "    for i in range(len(board)):\n",
    "        for j in range(len(board[i])): \n",
    "            if((i == (zeroX + 1) or i == (zeroX - 1)) and j == zeroY):\n",
    "                newBoard = copy.deepcopy(board)\n",
    "                newBoard[zeroX][zeroY] = board[i][j]\n",
    "                newBoard[i][j] = 0\n",
    "                attempts.append(newBoard)\n",
    "            elif((j == (zeroY + 1) or j == (zeroY -1)) and i == zeroX):\n",
    "                newBoard = copy.deepcopy(board)\n",
    "                newBoard[zeroX][zeroY] = board[i][j]\n",
    "                newBoard[i][j] = 0\n",
    "                attempts.append(newBoard) \n",
    "    return attempts\n",
    "    \n",
    "    "
   ]
  },
  {
   "cell_type": "code",
   "execution_count": 148,
   "id": "7db8ea5d",
   "metadata": {},
   "outputs": [],
   "source": [
    "def bestFitAlgorithm(board, solution):\n",
    "    solved = False\n",
    "    if(distanceFromSolution(board, solution) == 0):\n",
    "        solved = True\n",
    "    while(not solved):\n",
    "        possibleMovement = movement(board)\n",
    "        winner = []\n",
    "        winnerPoints = 0\n",
    "        for moves in possibleMovement:\n",
    "            distance = distanceFromSolution(moves, solution)\n",
    "            if(distance < winnerPoints or winnerPoints == 0):\n",
    "                winner = moves\n",
    "                winnerPoints = distance\n",
    "\n",
    "        if(winnerPoints == 0):\n",
    "            solved = True\n",
    "        else:\n",
    "            board = winner\n",
    "            print(\"Current Point amount: \" + str(winnerPoints))\n",
    "            print(board)\n",
    "    print('Congrats we solved your puzzle')\n",
    "    print(winner)\n",
    "    return winner"
   ]
  },
  {
   "cell_type": "code",
   "execution_count": 149,
   "id": "251a4f0c",
   "metadata": {},
   "outputs": [
    {
     "name": "stdout",
     "output_type": "stream",
     "text": [
      "Current Point amount: 4\n",
      "[[1, 2, 3], [5, 0, 6], [4, 7, 8]]\n",
      "Current Point amount: 3\n",
      "[[1, 2, 3], [0, 5, 6], [4, 7, 8]]\n",
      "Current Point amount: 2\n",
      "[[1, 2, 3], [4, 5, 6], [0, 7, 8]]\n",
      "Current Point amount: 1\n",
      "[[1, 2, 3], [4, 5, 6], [7, 0, 8]]\n",
      "Congrats we solved your puzzle\n",
      "[[1, 2, 3], [4, 5, 6], [7, 8, 0]]\n"
     ]
    },
    {
     "data": {
      "text/plain": [
       "[[1, 2, 3], [4, 5, 6], [7, 8, 0]]"
      ]
     },
     "execution_count": 149,
     "metadata": {},
     "output_type": "execute_result"
    }
   ],
   "source": [
    "bestFitAlgorithm(board, solution)"
   ]
  }
 ],
 "metadata": {
  "kernelspec": {
   "display_name": "Python 3",
   "language": "python",
   "name": "python3"
  },
  "language_info": {
   "codemirror_mode": {
    "name": "ipython",
    "version": 3
   },
   "file_extension": ".py",
   "mimetype": "text/x-python",
   "name": "python",
   "nbconvert_exporter": "python",
   "pygments_lexer": "ipython3",
   "version": "3.8.8"
  }
 },
 "nbformat": 4,
 "nbformat_minor": 5
}
